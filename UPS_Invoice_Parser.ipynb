{
 "cells": [
  {
   "cell_type": "markdown",
   "id": "9d682179",
   "metadata": {},
   "source": [
    "Install requirements:\n",
    "\n",
    "pip install -r requirements.txt"
   ]
  },
  {
   "cell_type": "markdown",
   "id": "a97f3c16",
   "metadata": {},
   "source": [
    "Step 1: Load raw invoices and re-arrange info; match up with YDD shipment info and try to assign to Customer ID."
   ]
  },
  {
   "cell_type": "code",
   "execution_count": 7,
   "id": "bfb41c4c",
   "metadata": {},
   "outputs": [
    {
     "name": "stdout",
     "output_type": "stream",
     "text": [
      "📁 Archived 15 files to \\\\TRANS-SERVER\\Acct2\\TWL\\UPS\\TWL UPS Invoice Parser\\data\\raw_invoices\\355\n",
      "📥 Selected 15 CSV file(s)\n",
      "✓ Loaded Invoice_000000HE6132355_083025.csv with encoding utf-8\n",
      "✓ Loaded Invoice_000000J2158C355_083025.csv with encoding utf-8\n",
      "✓ Loaded Invoice_000000K5811C355_083025.csv with encoding utf-8\n"
     ]
    },
    {
     "name": "stderr",
     "output_type": "stream",
     "text": [
      "a:\\TWL\\UPS\\TWL UPS Invoice Parser\\ups_invoice_parser.py:349: DtypeWarning: Columns (36,195) have mixed types. Specify dtype option on import or set low_memory=False.\n",
      "  df = pd.read_csv(\n"
     ]
    },
    {
     "name": "stdout",
     "output_type": "stream",
     "text": [
      "✓ Loaded Invoice_000000XJ3936355_083025.csv with encoding cp1252\n",
      "✓ Loaded Invoice_000000Y209J6355_083025.csv with encoding utf-8\n"
     ]
    },
    {
     "name": "stderr",
     "output_type": "stream",
     "text": [
      "a:\\TWL\\UPS\\TWL UPS Invoice Parser\\ups_invoice_parser.py:349: DtypeWarning: Columns (36,38,104,106,128,195) have mixed types. Specify dtype option on import or set low_memory=False.\n",
      "  df = pd.read_csv(\n"
     ]
    },
    {
     "name": "stdout",
     "output_type": "stream",
     "text": [
      "✓ Loaded Invoice_000000H930G4355_083025.csv with encoding utf-8\n"
     ]
    },
    {
     "name": "stderr",
     "output_type": "stream",
     "text": [
      "a:\\TWL\\UPS\\TWL UPS Invoice Parser\\ups_invoice_parser.py:349: DtypeWarning: Columns (36,38,104,106,195) have mixed types. Specify dtype option on import or set low_memory=False.\n",
      "  df = pd.read_csv(\n"
     ]
    },
    {
     "name": "stdout",
     "output_type": "stream",
     "text": [
      "✓ Loaded Invoice_000000H930G2355_083025.csv with encoding cp1252\n"
     ]
    },
    {
     "name": "stderr",
     "output_type": "stream",
     "text": [
      "a:\\TWL\\UPS\\TWL UPS Invoice Parser\\ups_invoice_parser.py:349: DtypeWarning: Columns (36,104,106,128,195) have mixed types. Specify dtype option on import or set low_memory=False.\n",
      "  df = pd.read_csv(\n"
     ]
    },
    {
     "name": "stdout",
     "output_type": "stream",
     "text": [
      "✓ Loaded Invoice_000000H930G3355_083025.csv with encoding utf-8\n",
      "✓ Loaded Invoice_000000G2C794355_083025.csv with encoding utf-8\n",
      "✓ Loaded Invoice_000000G2G153355_083025.csv with encoding utf-8\n",
      "✓ Loaded Invoice_000000G2G154355_083025.csv with encoding utf-8\n",
      "✓ Loaded Invoice_000000G2G156355_083025.csv with encoding utf-8\n",
      "✓ Loaded Invoice_000000GH3237355_083025.csv with encoding utf-8\n",
      "✓ Loaded Invoice_000000GH3238355_083025.csv with encoding utf-8\n",
      "✓ Loaded Invoice_000000GH3239355_083025.csv with encoding utf-8\n",
      "✓ Loaded Invoice_000000GH3238355_083025.csv with encoding utf-8\n",
      "✓ Loaded Invoice_000000GH3239355_083025.csv with encoding utf-8\n",
      "✅ Normalized 104084 rows from 15 files\n",
      "✅ Normalized 104084 rows from 15 files\n",
      "[YDD] Login OK in 0.475s (token len=292)\n",
      "[YDD] Refs total=560, cached=550, querying=10, threads=3, batch_size=9\n",
      "[YDD] Login OK in 0.475s (token len=292)\n",
      "[YDD] Refs total=560, cached=550, querying=10, threads=3, batch_size=9\n",
      "[YDD] ❌ Missing 10 ref(s). Saved to: \\\\TRANS-SERVER\\Acct2\\TWL\\UPS\\TWL UPS Invoice Parser\\output\\missing_danhaos_ydd.csv\n",
      "[YDD] ❌ Missing 10 ref(s). Saved to: \\\\TRANS-SERVER\\Acct2\\TWL\\UPS\\TWL UPS Invoice Parser\\output\\missing_danhaos_ydd.csv\n",
      "✅ YDD Exception Template generated with 28 rows.\n",
      "📁 YDD Exception Template Saved to: \\\\TRANS-SERVER\\Acct2\\TWL\\UPS\\TWL UPS Invoice Parser\\output\\ExceptionImport_YDD.xlsx\n",
      "\n",
      "[YDD] API summary\n",
      "-------------------------------------------------\n",
      "Refs total     : 560\n",
      "Cached hits    : 550\n",
      "Queried        : 10\n",
      "API items      : 11\n",
      "Mapped (final) : 2034\n",
      "Missing        : 10\n",
      "✅ Matching complete — 18 unique customers\n",
      "✅ YDD Exception Template generated with 28 rows.\n",
      "📁 YDD Exception Template Saved to: \\\\TRANS-SERVER\\Acct2\\TWL\\UPS\\TWL UPS Invoice Parser\\output\\ExceptionImport_YDD.xlsx\n",
      "\n",
      "[YDD] API summary\n",
      "-------------------------------------------------\n",
      "Refs total     : 560\n",
      "Cached hits    : 550\n",
      "Queried        : 10\n",
      "API items      : 11\n",
      "Mapped (final) : 2034\n",
      "Missing        : 10\n",
      "✅ Matching complete — 18 unique customers\n",
      "💾 Matched invoices saved to data/temp/matched_invoices.pkl\n",
      "💾 Matched invoices saved to data/temp/matched_invoices.pkl\n"
     ]
    }
   ],
   "source": [
    "from pathlib import Path\n",
    "import sys, pandas as pd, traceback\n",
    "import importlib\n",
    "import ups_invoice_parser\n",
    "importlib.reload(ups_invoice_parser)\n",
    "from ups_invoice_parser import UpsInvLoader, UpsInvNormalizer, UpsCustomerMatcher\n",
    "\n",
    "FLAG_DEBUG = False  # Set to True to save intermediate Excel files for debugging @ /data/temp\n",
    "\n",
    "def main():\n",
    "    # === 1) Select + validate + archive ===\n",
    "    loader = UpsInvLoader()\n",
    "    loader.run_import(interactive=True, cli_fallback=False)\n",
    "    file_list = getattr(loader, \"invoices\", None)\n",
    "    if not file_list or not isinstance(file_list, list) or len(file_list) == 0:\n",
    "        print(\"❗ No files were selected. Exiting.\")\n",
    "        return\n",
    "    print(f\"📥 Selected {len(file_list)} CSV file(s)\")\n",
    "\n",
    "    # === 2) Normalize invoices ===\n",
    "    normalizer = UpsInvNormalizer(file_list)\n",
    "    normalizer.load_invoices()\n",
    "    normalizer.merge_invoices()\n",
    "    normalizer.standardize_invoices()\n",
    "    normalized_df = normalizer.get_normalized_data()\n",
    "    if FLAG_DEBUG:\n",
    "        normalized_df.to_excel(\"data/temp/normalized_invoices.xlsx\", index=False)\n",
    "        print(\"[Debug] ✅ Normalized invoices saved to data/temp/normalized_invoices.xlsx\")\n",
    "    print(f\"✅ Normalized {len(normalized_df)} rows from {len(file_list)} files\")\n",
    "\n",
    "    # === 3) Match customers & classify charges ===\n",
    "    matcher = UpsCustomerMatcher(normalized_df, use_api=True, ydd_threads=3)\n",
    "    matcher.match_customers()\n",
    "    matched_df = matcher.get_matched_data()\n",
    "    print(f\"✅ Matching complete — {matched_df['cust_id'].nunique()} unique customers\")\n",
    "\n",
    "    # Notify user if there are unmapped charges\n",
    "    unassigned_mask = matched_df[\"cust_id\"].isna() | (matched_df[\"cust_id\"].astype(str).str.strip() == \"\")\n",
    "    if unassigned_mask.any():\n",
    "        print(f\"⚠️ {unassigned_mask.sum()} rows still have blank/NaN cust_id\")\n",
    "\n",
    "    # Optionally save the matched_df for step 2\n",
    "    matched_df.to_pickle(\"data/temp/matched_invoices.pkl\")\n",
    "    if FLAG_DEBUG:\n",
    "        matched_df.to_excel(\"data/temp/matched_invoices.xlsx\", index=False)\n",
    "        print(\"[Debug] ✅ Matched invoices saved to data/temp/matched_invoices.xlsx\")\n",
    "    print(\"💾 Matched invoices saved to data/temp/matched_invoices.pkl\")\n",
    "\n",
    "# Directly call main() for notebook usability\n",
    "try:\n",
    "    main()\n",
    "except Exception as e:\n",
    "    print(f\"❌ Error: {e}\", file=sys.stderr)\n",
    "    traceback.print_exc()\n",
    "    raise"
   ]
  },
  {
   "cell_type": "markdown",
   "id": "ad0a8a4d",
   "metadata": {},
   "source": [
    "Before moving to next section, **you have to make sure**:\n",
    "\n",
    "1. Charges in output/UnmappedCharges.xlsx have been added to data/mappings/Charges.csv\n",
    "\n",
    "2. Exceptions(shipments not matched in YDD) in output/ExceptionImport_YDD.xlsx are properly matched with customer ID, especially for shipments allocated to \"F000222\". And then import the template to YDD.\n",
    "\n",
    "3. If Xero settings have been updated: \n",
    "\n",
    "- Check data/mappings/Contacts.csv and data/mappings/InventoryItems-xxxxxxxx.csv from Xero have been updated. (if necessary)\n",
    "\n",
    "4. If new customer has been added recently:\n",
    "\n",
    "- Check data/mappings/ARCalculator.csv\n",
    "- Check data/mappings/Pickups.csv"
   ]
  },
  {
   "cell_type": "code",
   "execution_count": null,
   "id": "904c3b87",
   "metadata": {},
   "outputs": [
    {
     "name": "stdout",
     "output_type": "stream",
     "text": [
      "✅ Built 15 Invoice objects\n",
      "📁 Invoices saved to \\\\TRANS-SERVER\\Acct2\\TWL\\UPS\\TWL UPS Invoice Parser\\data\\raw_invoices\\365\\invoices_365.pkl\n",
      "📁 Invoices saved to \\\\TRANS-SERVER\\Acct2\\TWL\\UPS\\TWL UPS Invoice Parser\\data\\raw_invoices\\365\\invoices_365.pkl\n",
      "✅ Invoices loaded from \\\\TRANS-SERVER\\Acct2\\TWL\\UPS\\TWL UPS Invoice Parser\\data\\raw_invoices\\365\\invoices_365.pkl\n",
      "✅ Reloaded 15 invoices from saved file\n",
      "✅ Loaded Contacts.csv (51 rows)\n",
      "✅ Loaded InventoryItems-20250831.csv (51 rows)\n",
      "✅ Invoices loaded from \\\\TRANS-SERVER\\Acct2\\TWL\\UPS\\TWL UPS Invoice Parser\\data\\raw_invoices\\365\\invoices_365.pkl\n",
      "✅ Reloaded 15 invoices from saved file\n",
      "✅ Loaded Contacts.csv (51 rows)\n",
      "✅ Loaded InventoryItems-20250831.csv (51 rows)\n",
      "📁 UPS invoice export saved to \\\\TRANS-SERVER\\Acct2\\TWL\\UPS\\TWL UPS Invoice Parser\\output\\365\\UPS_Invoice_Export.xlsx\n",
      "📁 YiDiDa AP template saved to \\\\TRANS-SERVER\\Acct2\\TWL\\UPS\\TWL UPS Invoice Parser\\output\\365\\YDD_AP_Template.xlsx\n",
      "📁 UPS invoice export saved to \\\\TRANS-SERVER\\Acct2\\TWL\\UPS\\TWL UPS Invoice Parser\\output\\365\\UPS_Invoice_Export.xlsx\n",
      "📁 YiDiDa AP template saved to \\\\TRANS-SERVER\\Acct2\\TWL\\UPS\\TWL UPS Invoice Parser\\output\\365\\YDD_AP_Template.xlsx\n",
      "📁 YiDiDa AR template saved to \\\\TRANS-SERVER\\Acct2\\TWL\\UPS\\TWL UPS Invoice Parser\\output\\365\\YDD_AR_Template.xlsx\n",
      "📁 Xero AP template saved to \\\\TRANS-SERVER\\Acct2\\TWL\\UPS\\TWL UPS Invoice Parser\\output\\365\\Xero_AP_Template.csv\n",
      "📁 Xero AR template saved to \\\\TRANS-SERVER\\Acct2\\TWL\\UPS\\TWL UPS Invoice Parser\\output\\365\\Xero_AR_Template.csv\n",
      "📁 YiDiDa AR template saved to \\\\TRANS-SERVER\\Acct2\\TWL\\UPS\\TWL UPS Invoice Parser\\output\\365\\YDD_AR_Template.xlsx\n",
      "📁 Xero AP template saved to \\\\TRANS-SERVER\\Acct2\\TWL\\UPS\\TWL UPS Invoice Parser\\output\\365\\Xero_AP_Template.csv\n",
      "📁 Xero AR template saved to \\\\TRANS-SERVER\\Acct2\\TWL\\UPS\\TWL UPS Invoice Parser\\output\\365\\Xero_AR_Template.csv\n",
      "📁 Customer invoice exported: \\\\TRANS-SERVER\\Acct2\\TWL\\UPS\\TWL UPS Invoice Parser\\output\\365\\F000222_365.csv\n",
      "📁 Customer invoice exported: \\\\TRANS-SERVER\\Acct2\\TWL\\UPS\\TWL UPS Invoice Parser\\output\\365\\F000222_365.csv\n",
      "📁 Customer invoice exported: \\\\TRANS-SERVER\\Acct2\\TWL\\UPS\\TWL UPS Invoice Parser\\output\\365\\F000208_365.csv\n",
      "📁 Customer invoice exported: \\\\TRANS-SERVER\\Acct2\\TWL\\UPS\\TWL UPS Invoice Parser\\output\\365\\F000199_365.xlsx\n",
      "📁 Customer invoice exported: \\\\TRANS-SERVER\\Acct2\\TWL\\UPS\\TWL UPS Invoice Parser\\output\\365\\F000208_365.csv\n",
      "📁 Customer invoice exported: \\\\TRANS-SERVER\\Acct2\\TWL\\UPS\\TWL UPS Invoice Parser\\output\\365\\F000199_365.xlsx\n",
      "📁 Customer invoice exported: \\\\TRANS-SERVER\\Acct2\\TWL\\UPS\\TWL UPS Invoice Parser\\output\\365\\F000211_365.xlsx\n",
      "📁 Customer invoice exported: \\\\TRANS-SERVER\\Acct2\\TWL\\UPS\\TWL UPS Invoice Parser\\output\\365\\F000215_365.xlsx\n",
      "📁 Customer invoice exported: \\\\TRANS-SERVER\\Acct2\\TWL\\UPS\\TWL UPS Invoice Parser\\output\\365\\F000211_365.xlsx\n",
      "📁 Customer invoice exported: \\\\TRANS-SERVER\\Acct2\\TWL\\UPS\\TWL UPS Invoice Parser\\output\\365\\F000215_365.xlsx\n",
      "📁 Customer invoice exported: \\\\TRANS-SERVER\\Acct2\\TWL\\UPS\\TWL UPS Invoice Parser\\output\\365\\F000225_365.xlsx\n",
      "📁 Customer invoice exported: \\\\TRANS-SERVER\\Acct2\\TWL\\UPS\\TWL UPS Invoice Parser\\output\\365\\F000229_365.xlsx\n",
      "📁 Customer invoice exported: \\\\TRANS-SERVER\\Acct2\\TWL\\UPS\\TWL UPS Invoice Parser\\output\\365\\F000248_365.xlsx\n",
      "📁 Customer invoice exported: \\\\TRANS-SERVER\\Acct2\\TWL\\UPS\\TWL UPS Invoice Parser\\output\\365\\F000225_365.xlsx\n",
      "📁 Customer invoice exported: \\\\TRANS-SERVER\\Acct2\\TWL\\UPS\\TWL UPS Invoice Parser\\output\\365\\F000229_365.xlsx\n",
      "📁 Customer invoice exported: \\\\TRANS-SERVER\\Acct2\\TWL\\UPS\\TWL UPS Invoice Parser\\output\\365\\F000248_365.xlsx\n",
      "📁 Customer invoice exported: \\\\TRANS-SERVER\\Acct2\\TWL\\UPS\\TWL UPS Invoice Parser\\output\\365\\F000251_365.xlsx\n",
      "📁 Customer invoice exported: \\\\TRANS-SERVER\\Acct2\\TWL\\UPS\\TWL UPS Invoice Parser\\output\\365\\F000257_365.xlsx\n",
      "📁 Customer invoice exported: \\\\TRANS-SERVER\\Acct2\\TWL\\UPS\\TWL UPS Invoice Parser\\output\\365\\F000251_365.xlsx\n",
      "📁 Customer invoice exported: \\\\TRANS-SERVER\\Acct2\\TWL\\UPS\\TWL UPS Invoice Parser\\output\\365\\F000257_365.xlsx\n",
      "📁 Customer invoice exported: \\\\TRANS-SERVER\\Acct2\\TWL\\UPS\\TWL UPS Invoice Parser\\output\\365\\F000269_365.xlsx\n",
      "📁 Customer invoice exported: \\\\TRANS-SERVER\\Acct2\\TWL\\UPS\\TWL UPS Invoice Parser\\output\\365\\F000270_365.xlsx\n",
      "📁 Customer invoice exported: \\\\TRANS-SERVER\\Acct2\\TWL\\UPS\\TWL UPS Invoice Parser\\output\\365\\F000274_365.xlsx\n",
      "📁 Customer invoice exported: \\\\TRANS-SERVER\\Acct2\\TWL\\UPS\\TWL UPS Invoice Parser\\output\\365\\F000269_365.xlsx\n",
      "📁 Customer invoice exported: \\\\TRANS-SERVER\\Acct2\\TWL\\UPS\\TWL UPS Invoice Parser\\output\\365\\F000270_365.xlsx\n",
      "📁 Customer invoice exported: \\\\TRANS-SERVER\\Acct2\\TWL\\UPS\\TWL UPS Invoice Parser\\output\\365\\F000274_365.xlsx\n",
      "📁 Customer invoice exported: \\\\TRANS-SERVER\\Acct2\\TWL\\UPS\\TWL UPS Invoice Parser\\output\\365\\F000281_365.xlsx\n",
      "📁 Customer invoice exported: \\\\TRANS-SERVER\\Acct2\\TWL\\UPS\\TWL UPS Invoice Parser\\output\\365\\F000299_365.xlsx\n",
      "✅ All exports completed for batch 365\n",
      "📁 Output folder: a:\\TWL\\UPS\\TWL UPS Invoice Parser\\output\\365\n",
      "📁 Customer invoice exported: \\\\TRANS-SERVER\\Acct2\\TWL\\UPS\\TWL UPS Invoice Parser\\output\\365\\F000281_365.xlsx\n",
      "📁 Customer invoice exported: \\\\TRANS-SERVER\\Acct2\\TWL\\UPS\\TWL UPS Invoice Parser\\output\\365\\F000299_365.xlsx\n",
      "✅ All exports completed for batch 365\n",
      "📁 Output folder: a:\\TWL\\UPS\\TWL UPS Invoice Parser\\output\\365\n"
     ]
    }
   ],
   "source": [
    "from pathlib import Path\n",
    "import sys, pandas as pd, traceback\n",
    "import importlib\n",
    "import ups_invoice_parser\n",
    "importlib.reload(ups_invoice_parser)\n",
    "from ups_invoice_parser import UpsInvoiceBuilder, UpsInvoiceExporter\n",
    "\n",
    "def main():\n",
    "    # Load matched invoices from step 1\n",
    "    matched_df = pd.read_pickle(\"data/temp/matched_invoices.pkl\")\n",
    "\n",
    "    # === 4) Build composite invoice structure ===\n",
    "    builder = UpsInvoiceBuilder(matched_df)\n",
    "    builder.build_invoices()\n",
    "    builder._scc_handler()\n",
    "    invoices_dict = builder.get_invoices()\n",
    "    if not invoices_dict:\n",
    "        raise RuntimeError(\"No Invoice objects were built — check earlier steps.\")\n",
    "    print(f\"✅ Built {len(invoices_dict)} Invoice objects\")\n",
    "\n",
    "    # === 5) Save invoices (.pkl) ===\n",
    "    builder.save_invoices()\n",
    "\n",
    "    # === 6) Reload from .pkl ===\n",
    "    first_invoice = next(iter(invoices_dict.values()))\n",
    "    batch_number = getattr(first_invoice, \"batch_num\", None)\n",
    "    if not batch_number:\n",
    "        raise RuntimeError(\"Batch number not available (from invoice).\")\n",
    "    reload_builder = UpsInvoiceBuilder(pd.DataFrame())\n",
    "    reload_builder.load_invoices(batch_number)\n",
    "    print(f\"✅ Reloaded {len(reload_builder.invoices)} invoices from saved file\")\n",
    "\n",
    "    # === 7) Initialize exporter ===\n",
    "    exporter = UpsInvoiceExporter(invoices=reload_builder.invoices)\n",
    "\n",
    "    # === 8) Master export (Details + Summaries + General Cost) ===\n",
    "    exporter.export()\n",
    "\n",
    "    # === 9) YiDiDa templates (AP + AR) ===\n",
    "    exporter.generate_ydd_ap_template()\n",
    "    exporter.generate_ydd_ar_template()\n",
    "\n",
    "    # === 10) Xero templates (AP + AR) ===\n",
    "    exporter.generate_xero_templates()\n",
    "\n",
    "    # === 11) Per-customer workbooks ===\n",
    "    exporter.generate_customer_invoices()\n",
    "\n",
    "    print(f\"✅ All exports completed for batch {batch_number}\")\n",
    "    output_folder = Path.cwd() / 'output' / str(batch_number)\n",
    "    print(f\"📁 Output folder: {output_folder}\")\n",
    "    \n",
    "\n",
    "try:\n",
    "    main()\n",
    "except Exception as e:\n",
    "    print(f\"❌ Error: {e}\", file=sys.stderr)\n",
    "    traceback.print_exc()\n",
    "    raise"
   ]
  }
 ],
 "metadata": {
  "kernelspec": {
   "display_name": "Python 3",
   "language": "python",
   "name": "python3"
  },
  "language_info": {
   "codemirror_mode": {
    "name": "ipython",
    "version": 3
   },
   "file_extension": ".py",
   "mimetype": "text/x-python",
   "name": "python",
   "nbconvert_exporter": "python",
   "pygments_lexer": "ipython3",
   "version": "3.11.9"
  }
 },
 "nbformat": 4,
 "nbformat_minor": 5
}
